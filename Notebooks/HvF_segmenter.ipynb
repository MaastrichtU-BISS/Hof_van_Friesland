{
 "cells": [
  {
   "cell_type": "markdown",
   "id": "919181c1-3809-4cd8-9ae5-b91caf88317a",
   "metadata": {},
   "source": [
    "This script takes a transcribed but unsegmented document with court cases from the Hof van Friesland as input. It outputs segmented documents (one document per case). The script is not perfect, as it occasionally splits documents that should have been merged or where the claimant's name at the end of the document belongs to the beginning of the next document. The mistakes need to be corrected manually."
   ]
  },
  {
   "cell_type": "code",
   "execution_count": null,
   "id": "195f8e1e-7b10-4cf0-8484-24c9ad649e80",
   "metadata": {},
   "outputs": [],
   "source": [
    "import re\n",
    "import os"
   ]
  },
  {
   "cell_type": "code",
   "execution_count": null,
   "id": "966e0d75-5819-4b19-94ae-c81406a17bb1",
   "metadata": {},
   "outputs": [],
   "source": [
    "input_file = '.\\Transcribed_docs\\[file name]' #replace [file name] with the name of the file\n",
    "output_dir = './segmented_docs'"
   ]
  },
  {
   "cell_type": "code",
   "execution_count": null,
   "id": "af7fc785-4d65-4366-97bf-c106fc3bb448",
   "metadata": {},
   "outputs": [],
   "source": [
    "def segment_document(input_file, output_prefix, output_dir=output_dir):\n",
    "    \"\"\"Function for segmenting the input document\"\"\"\n",
    "    # Create the directory if it doesn't exist\n",
    "    if not os.path.exists(output_dir):\n",
    "        os.makedirs(output_dir)\n",
    "\n",
    "    # Read the entire content of the input file\n",
    "    with open(input_file, 'r', encoding='utf-8') as file:\n",
    "        content = file.read()\n",
    "\n",
    "    # Regular expression pattern to match the desired segmentation\n",
    "    # It looks for a line with a name (starts with a capital letter), followed by a newline,\n",
    "    # and text ending with a four-digit year optionally followed by a period.\n",
    "    pattern = re.compile(r'(?<=\\n)([A-Z][^\\n]+?)\\n.*?\\b(\\d{4}\\.?)\\n', re.DOTALL)\n",
    "\n",
    "    # Find all matches\n",
    "    matches = list(pattern.finditer(content))\n",
    "\n",
    "    # Define the start positions of each segment\n",
    "    start_positions = [match.start() for match in matches]\n",
    "    start_positions.append(len(content))  # Add the end of the content as the last segment\n",
    "\n",
    "    # Write each segment to a new file\n",
    "    for i in range(len(start_positions) - 1):\n",
    "        start = start_positions[i]\n",
    "        end = start_positions[i + 1]\n",
    "        segment_content = content[start:end].strip()\n",
    "        \n",
    "        # Construct the output file path with the directory and prefix\n",
    "        output_file = os.path.join(output_dir, f\"{output_prefix}_{i + 1}.txt\")\n",
    "        with open(output_file, 'w', encoding='utf-8') as file:\n",
    "            file.write(segment_content)\n",
    "        \n",
    "        print(f\"Segment written to {output_file}\")"
   ]
  },
  {
   "cell_type": "code",
   "execution_count": null,
   "id": "b79767f4-dee4-4259-aeca-24a2fd9855d7",
   "metadata": {},
   "outputs": [],
   "source": [
    "# Call the function with the input file name and desired output prefix\n",
    "segment_document(input_file, 'segment', output_dir=output_dir)"
   ]
  }
 ],
 "metadata": {
  "kernelspec": {
   "display_name": "Python 3 (ipykernel)",
   "language": "python",
   "name": "python3"
  },
  "language_info": {
   "codemirror_mode": {
    "name": "ipython",
    "version": 3
   },
   "file_extension": ".py",
   "mimetype": "text/x-python",
   "name": "python",
   "nbconvert_exporter": "python",
   "pygments_lexer": "ipython3",
   "version": "3.11.7"
  }
 },
 "nbformat": 4,
 "nbformat_minor": 5
}
